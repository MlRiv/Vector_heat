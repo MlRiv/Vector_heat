{
 "cells": [
  {
   "cell_type": "code",
   "execution_count": 1,
   "metadata": {},
   "outputs": [],
   "source": [
    "import torch\n",
    "from torch import nn, optim\n",
    "from torchvision.transforms import functional as TF\n",
    "import os\n",
    "from PIL import Image\n",
    "import numpy as np\n",
    "import kornia\n"
   ]
  },
  {
   "cell_type": "markdown",
   "metadata": {},
   "source": [
    "## The Vector Heat Method"
   ]
  },
  {
   "cell_type": "markdown",
   "metadata": {},
   "source": [
    "### One implementation with Pytorch"
   ]
  },
  {
   "cell_type": "code",
   "execution_count": null,
   "metadata": {},
   "outputs": [],
   "source": [
    "\n",
    "# This code is given by the following repository: https://github.com/jakericedesigns/Pytorch-Heat-Method/. The implementation is pleasantly straigthforward.\n",
    "\n",
    "def solve_poisson(img, iters=1000):\n",
    "    LU = torch.tensor([[[[0, 1., 0],\n",
    "                         [1, 0,  1],\n",
    "                         [0, 1,  0]]]], dtype=img.dtype).to(img.device)\n",
    "\n",
    "    BC = nn.ReplicationPad2d(1)\n",
    "    solution = img\n",
    "    for i in range(iters):\n",
    "            solution = (img - nn.functional.conv2d(BC(solution), LU)) / -4.0\n",
    "    return solution\n",
    "\n",
    "def screened_poisson(img, timestep=.1, mass=.01, iters=1000):\n",
    "    LU = torch.tensor([[[[0, -1., 0],\n",
    "                         [-1, 0, -1],\n",
    "                         [0, -1,  0]]]], dtype=img.dtype).to(img.device)\n",
    "\n",
    "    BC = nn.ReplicationPad2d(1)  \n",
    "    solution = img\n",
    "    for i in range(iters):\n",
    "            solution = (img - nn.functional.conv2d(BC(solution), LU * timestep)) / (mass + 4.0 * timestep)   \n",
    "    return solution    \n",
    "\n",
    "def finite_diff_grad(img):\n",
    "    kernel_x = torch.tensor([[[[0, 0., 0],\n",
    "                               [1, 0, -1],\n",
    "                               [0, 0,  0]]]], dtype=img.dtype).to(img.device)\n",
    "\n",
    "    kernel_y= torch.tensor([[[[0, 1,  0],\n",
    "                              [0, 0,  0],\n",
    "                              [0, -1, 0]]]], dtype=img.dtype).to(img.device)\n",
    "    div_x = nn.functional.conv2d(img, kernel_x)\n",
    "    div_y = nn.functional.conv2d(img, kernel_y)\n",
    "    return torch.cat((div_x, div_y), 1) / 2.0\n",
    "\n",
    "def finite_diff_div(grad):\n",
    "    kernel_x = torch.tensor([[[[0, 0., 0],\n",
    "                               [1, 0, -1],\n",
    "                               [0, 0,  0]]]], dtype=grad.dtype).to(grad.device)\n",
    "    kernel_y= torch.tensor([[[[0, 1,  0],\n",
    "                              [0, 0,  0],\n",
    "                              [0, -1, 0]]]], dtype=grad.dtype).to(grad.device)\n",
    "\n",
    "    div_x = nn.functional.conv2d(grad[:,0:1,...], kernel_x)\n",
    "    div_y = nn.functional.conv2d(grad[:,1:,...], kernel_y)\n",
    "    return (div_x + div_y) / 4.0\n",
    "\n",
    "# Now we can define the heat method function:\n",
    "\n",
    "def heat_method(image, timestep=1.0, mass=.01, iters_diffusion=500, iters_poisson=1000):\n",
    "    heat = screened_poisson(image, timestep, mass, iters_diffusion) #diffusion step\n",
    "    grad = finite_diff_grad(heat) * -1 #inverted gradient\n",
    "    grad = grad / grad.norm(dim=1) #normalize gradient\n",
    "    div = finite_diff_div(grad)\n",
    "    distance = solve_poisson(div, iters_poisson)\n",
    "    return distance\n",
    "\n",
    "def fitrange(x):\n",
    "    c_max = torch.max(x)\n",
    "    c_min = torch.min(x)\n",
    "    return (x - c_min) / (c_max - c_min)\n",
    "\n"
   ]
  },
  {
   "cell_type": "markdown",
   "metadata": {},
   "source": [
    "Below are some snippets for the code to work, from the same source:"
   ]
  },
  {
   "cell_type": "code",
   "execution_count": null,
   "metadata": {},
   "outputs": [],
   "source": [
    "if __name__ == \"__main__\":\n",
    "    device = torch.device('cuda:0' if torch.cuda.is_available() else 'cpu')\n",
    "    print('Using device:', device)\n",
    "    \n",
    "    init_image = \"H:\\\\Mon Drive\\\\Ai M2\\\\S2\\\\Minimal Paths\\\\Projet\\\\raie.jpg\" ##Path to the image\n",
    "\n",
    "\n",
    "    pil_image = Image.open(init_image).convert('RGB') #open image\n",
    "    image = TF.to_tensor(pil_image).to(device).unsqueeze(0) #convert to tensor and add batch dimension\n",
    "\n",
    "    #extract edges from our input images (this is a nice add by Jack Rice but not necessary for the heat method to work)\n",
    "    edges = kornia.filters.canny(image)[1]\n",
    "    \n",
    "    #perform heat method to get depth map\n",
    "    depth_map = heat_method(edges, timestep=0.1, mass=.01, iters_diffusion=500, iters_poisson=1000)\n"
   ]
  },
  {
   "cell_type": "code",
   "execution_count": null,
   "metadata": {},
   "outputs": [],
   "source": [
    "# save the output images (change the path to save the images in the desired location)\n",
    "#TF.to_pil_image(edges[0].cpu()).save('H:\\\\Mon Drive\\\\Ai M2\\\\S2\\\\Minimal Paths\\\\Projet\\\\edgesraie_out.jpg') \n",
    "#TF.to_pil_image(fitrange(depth_map)[0].cpu()).save('H:\\\\Mon Drive\\\\Ai M2\\\\S2\\\\Minimal Paths\\\\Projet\\\\depthraie_out.jpg')"
   ]
  }
 ],
 "metadata": {
  "kernelspec": {
   "display_name": "Python 3",
   "language": "python",
   "name": "python3"
  },
  "language_info": {
   "codemirror_mode": {
    "name": "ipython",
    "version": 3
   },
   "file_extension": ".py",
   "mimetype": "text/x-python",
   "name": "python",
   "nbconvert_exporter": "python",
   "pygments_lexer": "ipython3",
   "version": "3.10.9"
  }
 },
 "nbformat": 4,
 "nbformat_minor": 2
}
